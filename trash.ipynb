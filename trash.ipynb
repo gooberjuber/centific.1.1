{
 "cells": [
  {
   "cell_type": "code",
   "execution_count": null,
   "metadata": {},
   "outputs": [],
   "source": [
    "!pip install databricks-api"
   ]
  },
  {
   "cell_type": "code",
   "execution_count": 23,
   "metadata": {},
   "outputs": [],
   "source": []
  },
  {
   "cell_type": "code",
   "execution_count": null,
   "metadata": {},
   "outputs": [],
   "source": [
    "# code to upload a multi celld notebook thingy\n",
    "from databricks_api import DatabricksAPI\n",
    "import base64\n",
    "import json\n",
    "\n",
    "\n",
    "db = DatabricksAPI(\n",
    "    host=DATABRICKS_INSTANCE,\n",
    "    token=DATABRICKS_TOKEN\n",
    ")\n",
    "\n",
    "\n",
    "\n",
    "notebook_content = {\n",
    "    \"cells\": [\n",
    "        {\n",
    "            \"cell_type\": \"code\",\n",
    "            \"metadata\": {},\n",
    "            \"outputs\": [],\n",
    "            \"source\": [\n",
    "                \"print(\\\"Hello boch!\\\")\\n\"\n",
    "            ]\n",
    "        },\n",
    "        {\n",
    "            \"cell_type\": \"code\",\n",
    "            \"metadata\": {},\n",
    "            \"outputs\": [],\n",
    "            \"source\": [\n",
    "                \"print(\\\"hello korni.\\\")\\n\"\n",
    "            ]\n",
    "        }\n",
    "    ],\n",
    "    \"metadata\": {\n",
    "        \"kernelspec\": {\n",
    "            \"display_name\": \"Python 3\",\n",
    "            \"language\": \"python\",\n",
    "            \"name\": \"python3\"\n",
    "        },\n",
    "        \"language_info\": {\n",
    "            \"codemirror_mode\": {\n",
    "                \"name\": \"ipython\",\n",
    "                \"version\": 3\n",
    "            },\n",
    "            \"file_extension\": \".py\",\n",
    "            \"mimetype\": \"text/x-python\",\n",
    "            \"name\": \"python\",\n",
    "            \"nbconvert_exporter\": \"python\",\n",
    "            \"pygments_lexer\": \"ipython3\",\n",
    "            \"version\": \"3.8.5\"\n",
    "        }\n",
    "    },\n",
    "    \"nbformat\": 4,\n",
    "    \"nbformat_minor\": 5\n",
    "}\n",
    "\n",
    "def create_notebook(path, content):\n",
    "\n",
    "    encoded_content = base64.b64encode(json.dumps(content).encode('utf-8')).decode('utf-8')\n",
    "\n",
    "    response = db.workspace.import_workspace(\n",
    "        path=path,\n",
    "        #change3d format from source to jupyter\n",
    "        format='JUPYTER',\n",
    "        language='PYTHON',\n",
    "        content=encoded_content\n",
    "    )\n",
    "\n",
    "    return response\n",
    "\n",
    "response = create_notebook(notebook_path, notebook_content)\n",
    "print(\"Response:\", response)\n",
    "#"
   ]
  },
  {
   "cell_type": "code",
   "execution_count": null,
   "metadata": {},
   "outputs": [],
   "source": [
    "from databricks_api import DatabricksAPI\n",
    "\n",
    "\n",
    "\n",
    "db = DatabricksAPI(\n",
    "    host=DATABRICKS_INSTANCE,\n",
    "    token=DATABRICKS_TOKEN\n",
    ")\n",
    "\n",
    "# bro create cluster then pass id \n",
    "\n",
    "job_config = {\n",
    "    \"name\": \"from code try\",  \n",
    "    \"existing_cluster_id\":\"0911-051026-t7k7800r\",  \n",
    "    \"notebook_task\": {\n",
    "        \"notebook_path\": notebook_path  # Path \n",
    "    }\n",
    "}\n",
    "\n",
    "def create_job(job_config):\n",
    "    response = db.jobs.create_job(**job_config)\n",
    "    return response\n",
    "\n",
    "\n",
    "response = create_job(job_config)\n",
    "print(\"Response:\", response)\n"
   ]
  },
  {
   "cell_type": "code",
   "execution_count": null,
   "metadata": {},
   "outputs": [],
   "source": [
    "from databricks_api import DatabricksAPI\n",
    "\n",
    "\n",
    "\n",
    "db = DatabricksAPI(\n",
    "    host=DATABRICKS_INSTANCE,\n",
    "    token=DATABRICKS_TOKEN\n",
    ")\n",
    "\n",
    "\n",
    "\n",
    "# in case we got multi book things put the cluster specification withon the tasks\n",
    "job_config = {\n",
    "    \"name\": \"Job with Task Dependencies\",  \n",
    "    \"tasks\": [\n",
    "        {\n",
    "            \"task_key\": \"task1\",\n",
    "            \"notebook_task\": {\n",
    "                \"notebook_path\": notebook_path1\n",
    "            },\n",
    "            \"existing_cluster_id\": \"0911-051026-t7k7800r\"\n",
    "        },\n",
    "        {\n",
    "            \"task_key\": \"task2\",\n",
    "            \"depends_on\": [\n",
    "                {\"task_key\": \"task1\"}\n",
    "            ],\n",
    "            \"notebook_task\": {\n",
    "                \"notebook_path\": notebook_path2\n",
    "            },\n",
    "            \"existing_cluster_id\": \"0911-051026-t7k7800r\"\n",
    "        }\n",
    "    ]\n",
    "}\n",
    "\n",
    "def create_job(job_config):\n",
    "    response = db.jobs.create_job(**job_config)\n",
    "    return response\n",
    "\n",
    "\n",
    "response = create_job(job_config)\n",
    "print(\"Response:\", response)\n"
   ]
  },
  {
   "cell_type": "code",
   "execution_count": null,
   "metadata": {},
   "outputs": [],
   "source": [
    "# simple job run \n",
    "\n",
    "job_id = '675250568259634'\n",
    "\n",
    "def run_job(job_id):\n",
    "    response = db.jobs.run_now(job_id=job_id)\n",
    "    return response\n",
    "\n",
    "run_response = run_job(job_id)\n",
    "print(\"Job Run Response:\", run_response)\n"
   ]
  },
  {
   "cell_type": "code",
   "execution_count": null,
   "metadata": {},
   "outputs": [],
   "source": [
    "run_id = '1003720147846431'\n",
    "\n",
    "def get_run_status(run_id):\n",
    "    response = db.jobs.get_run(run_id=run_id)\n",
    "    return response\n",
    "\n",
    "run_status = get_run_status(run_id)\n",
    "print(\"Run Stat :\", run_status)\n",
    "\n",
    "print(run_status.keys())\n",
    "print(run_status['state'])\n",
    "print(run_status['status'])\n"
   ]
  },
  {
   "cell_type": "code",
   "execution_count": null,
   "metadata": {},
   "outputs": [],
   "source": [
    "run_id = '1003720147846431'\n",
    "\n",
    "def get_run_status(run_id):\n",
    "    response = db.jobs.get_run(run_id=run_id)\n",
    "    return response\n",
    "\n",
    "run_status = get_run_status(run_id)\n",
    "print(\"Run Stat :\", run_status)\n",
    "\n",
    "print(run_status.keys())\n",
    "print(run_status['state'])\n",
    "print(run_status['status'])\n"
   ]
  },
  {
   "cell_type": "code",
   "execution_count": 46,
   "metadata": {},
   "outputs": [],
   "source": [
    "!git add trash.ipynb"
   ]
  },
  {
   "cell_type": "code",
   "execution_count": null,
   "metadata": {},
   "outputs": [],
   "source": [
    "!git commit -m \"task run status can be checked\""
   ]
  },
  {
   "cell_type": "code",
   "execution_count": null,
   "metadata": {},
   "outputs": [],
   "source": [
    "!git push"
   ]
  },
  {
   "cell_type": "code",
   "execution_count": 41,
   "metadata": {},
   "outputs": [],
   "source": [
    "!git reset --soft HEAD~1\n"
   ]
  },
  {
   "cell_type": "code",
   "execution_count": null,
   "metadata": {},
   "outputs": [],
   "source": [
    "!git pull"
   ]
  },
  {
   "cell_type": "code",
   "execution_count": null,
   "metadata": {},
   "outputs": [],
   "source": []
  }
 ],
 "metadata": {
  "kernelspec": {
   "display_name": ".venv",
   "language": "python",
   "name": "python3"
  },
  "language_info": {
   "codemirror_mode": {
    "name": "ipython",
    "version": 3
   },
   "file_extension": ".py",
   "mimetype": "text/x-python",
   "name": "python",
   "nbconvert_exporter": "python",
   "pygments_lexer": "ipython3",
   "version": "3.12.6"
  }
 },
 "nbformat": 4,
 "nbformat_minor": 2
}
